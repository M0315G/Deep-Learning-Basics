{
 "cells": [
  {
   "cell_type": "code",
   "execution_count": 1,
   "metadata": {
    "id": "Raq-j0fgsMVf"
   },
   "outputs": [],
   "source": [
    "import numpy as np\n",
    "import pickle as pk\n",
    "import sklearn as sk\n",
    "from sklearn.neural_network import MLPClassifier"
   ]
  },
  {
   "cell_type": "code",
   "execution_count": 2,
   "metadata": {
    "colab": {
     "base_uri": "https://localhost:8080/",
     "height": 164
    },
    "id": "4_D9TLnYu1th",
    "outputId": "fc6c2b0c-4cf4-43e9-852d-363f68f4778f"
   },
   "outputs": [],
   "source": [
    "train_set, validation_set, test_set = pk.load(open('mnist.pkl', 'rb'), encoding='latin1')"
   ]
  },
  {
   "cell_type": "code",
   "execution_count": 3,
   "metadata": {
    "id": "b2Q4hdUFu_JL"
   },
   "outputs": [
    {
     "name": "stdout",
     "output_type": "stream",
     "text": [
      "Training Set:\n",
      "Type:  <class 'tuple'>\n",
      "Validation Set:\n",
      "Type:  <class 'tuple'>\n",
      "Test Set:\n",
      "Type:  <class 'tuple'>\n"
     ]
    }
   ],
   "source": [
    "print(\"Training Set:\")\n",
    "print(\"Type: \", type(train_set))\n",
    "\n",
    "print(\"Validation Set:\")\n",
    "print(\"Type: \", type(validation_set))\n",
    "\n",
    "print(\"Test Set:\")\n",
    "print(\"Type: \", type(test_set))"
   ]
  },
  {
   "cell_type": "code",
   "execution_count": 4,
   "metadata": {
    "id": "2SKe1UAZyNad"
   },
   "outputs": [
    {
     "name": "stdout",
     "output_type": "stream",
     "text": [
      "\n",
      "Training Set:\n",
      "train_x shape:  (50000, 784)\n",
      "train_y shape:  (50000,)\n",
      "Validation Set:\n",
      "validation_x shape:  (10000, 784)\n",
      "validation_y shape:  (10000,)\n",
      "Test Set:\n",
      "test_x shape:  (10000, 784)\n",
      "test_y shape:  (10000,)\n",
      "\n",
      "\n",
      "Training Set:\n",
      "train_x shape:  (60000, 784)\n",
      "train_y shape:  (60000,)\n",
      "Test Set:\n",
      "test_x shape:  (10000, 784)\n",
      "test_y shape:  (10000,)\n"
     ]
    }
   ],
   "source": [
    "train_x = train_set[0]\n",
    "train_y = train_set[1]\n",
    "\n",
    "validation_x = validation_set[0]\n",
    "validation_y = validation_set[1]\n",
    "\n",
    "test_x = test_set[0]\n",
    "test_y = test_set[1]\n",
    "\n",
    "# Printing dimensions\n",
    "print(\"\\nTraining Set:\")\n",
    "print(\"train_x shape: \", train_x.shape)\n",
    "print(\"train_y shape: \", train_y.shape)\n",
    "\n",
    "print(\"Validation Set:\")\n",
    "print(\"validation_x shape: \", test_x.shape)\n",
    "print(\"validation_y shape: \", test_y.shape)\n",
    "\n",
    "print(\"Test Set:\")\n",
    "print(\"test_x shape: \", test_x.shape)\n",
    "print(\"test_y shape: \", test_y.shape)\n",
    "\n",
    "\n",
    "# Concatenating the Train and Validation sets\n",
    "train_x = np.concatenate((train_x, validation_x), axis=0)\n",
    "train_y = np.concatenate((train_y, validation_y), axis=0)\n",
    "\n",
    "\n",
    "# Printing dimensions\n",
    "print(\"\\n\\nTraining Set:\")\n",
    "print(\"train_x shape: \", train_x.shape)\n",
    "print(\"train_y shape: \", train_y.shape)\n",
    "\n",
    "print(\"Test Set:\")\n",
    "print(\"test_x shape: \", test_x.shape)\n",
    "print(\"test_y shape: \", test_y.shape)\n",
    "\n",
    "\n",
    "# Normalizing\n",
    "train_x = train_x/255\n",
    "test_x = test_x/255"
   ]
  },
  {
   "cell_type": "code",
   "execution_count": 5,
   "metadata": {
    "id": "lGLItDmAzzpt"
   },
   "outputs": [
    {
     "name": "stderr",
     "output_type": "stream",
     "text": [
      "C:\\Users\\Admin\\anaconda3\\lib\\site-packages\\sklearn\\neural_network\\_multilayer_perceptron.py:582: ConvergenceWarning: Stochastic Optimizer: Maximum iterations (50) reached and the optimization hasn't converged yet.\n",
      "  warnings.warn(\n"
     ]
    },
    {
     "data": {
      "text/plain": [
       "MLPClassifier(hidden_layer_sizes=500, learning_rate_init=0.01, max_iter=50)"
      ]
     },
     "execution_count": 5,
     "metadata": {},
     "output_type": "execute_result"
    }
   ],
   "source": [
    "clf = MLPClassifier(hidden_layer_sizes=500, solver='adam', learning_rate_init=0.01, max_iter=50)\n",
    "clf.fit(train_x, train_y)"
   ]
  },
  {
   "cell_type": "code",
   "execution_count": 6,
   "metadata": {},
   "outputs": [],
   "source": [
    "predictions = clf.predict(test_x)"
   ]
  },
  {
   "cell_type": "code",
   "execution_count": 7,
   "metadata": {
    "id": "UhOqQo5a0Zd0"
   },
   "outputs": [
    {
     "name": "stdout",
     "output_type": "stream",
     "text": [
      "Accuracy Score: \n",
      "0.98\n",
      "\n",
      "Classification Report: \n",
      "              precision    recall  f1-score   support\n",
      "\n",
      "           0       0.98      0.99      0.99       980\n",
      "           1       0.99      0.99      0.99      1135\n",
      "           2       0.97      0.98      0.98      1032\n",
      "           3       0.97      0.98      0.97      1010\n",
      "           4       0.98      0.99      0.98       982\n",
      "           5       0.99      0.97      0.98       892\n",
      "           6       0.99      0.97      0.98       958\n",
      "           7       0.97      0.99      0.98      1028\n",
      "           8       0.97      0.98      0.98       974\n",
      "           9       0.99      0.95      0.97      1009\n",
      "\n",
      "    accuracy                           0.98     10000\n",
      "   macro avg       0.98      0.98      0.98     10000\n",
      "weighted avg       0.98      0.98      0.98     10000\n",
      "\n",
      "\n",
      "Confusion Matrix: \n",
      "[[ 972    0    1    1    0    0    0    1    4    1]\n",
      " [   0 1123    3    2    0    1    2    1    3    0]\n",
      " [   2    1 1010    3    1    0    0    8    7    0]\n",
      " [   0    0    6  992    0    3    0    2    3    4]\n",
      " [   0    0    3    0  971    0    3    1    0    4]\n",
      " [   2    0    0   13    1  867    3    1    4    1]\n",
      " [   5    3    4    1    7    3  931    0    4    0]\n",
      " [   0    2    5    1    1    0    0 1016    1    2]\n",
      " [   3    0    4    2    3    0    1    4  956    1]\n",
      " [   3    3    0   11   11    3    0   12    4  962]]\n"
     ]
    }
   ],
   "source": [
    "# Printing the evaluation metrics \n",
    "print(\"Accuracy Score: \")\n",
    "print(sk.metrics.accuracy_score(test_y, predictions, normalize=True))\n",
    "print(\"\\nClassification Report: \")\n",
    "print(sk.metrics.classification_report(test_y, predictions))\n",
    "print(\"\\nConfusion Matrix: \")\n",
    "print(sk.metrics.confusion_matrix(test_y, predictions))"
   ]
  },
  {
   "cell_type": "code",
   "execution_count": 11,
   "metadata": {},
   "outputs": [
    {
     "name": "stderr",
     "output_type": "stream",
     "text": [
      "C:\\Users\\Admin\\anaconda3\\lib\\site-packages\\sklearn\\neural_network\\_multilayer_perceptron.py:582: ConvergenceWarning: Stochastic Optimizer: Maximum iterations (50) reached and the optimization hasn't converged yet.\n",
      "  warnings.warn(\n"
     ]
    },
    {
     "data": {
      "text/plain": [
       "MLPClassifier(hidden_layer_sizes=800, learning_rate_init=0.01, max_iter=50)"
      ]
     },
     "execution_count": 11,
     "metadata": {},
     "output_type": "execute_result"
    }
   ],
   "source": [
    "clf1 = MLPClassifier(hidden_layer_sizes=800, solver='adam', learning_rate_init=0.01, max_iter=50)\n",
    "clf1.fit(train_x, train_y)"
   ]
  },
  {
   "cell_type": "code",
   "execution_count": 12,
   "metadata": {},
   "outputs": [],
   "source": [
    "predictions1 = clf1.predict(test_x)"
   ]
  },
  {
   "cell_type": "code",
   "execution_count": 13,
   "metadata": {},
   "outputs": [
    {
     "name": "stdout",
     "output_type": "stream",
     "text": [
      "Accuracy Score: \n",
      "0.9797\n",
      "\n",
      "Classification Report: \n",
      "              precision    recall  f1-score   support\n",
      "\n",
      "           0       0.99      0.99      0.99       980\n",
      "           1       0.99      0.99      0.99      1135\n",
      "           2       0.99      0.97      0.98      1032\n",
      "           3       0.98      0.98      0.98      1010\n",
      "           4       0.96      0.99      0.97       982\n",
      "           5       0.99      0.97      0.98       892\n",
      "           6       0.98      0.98      0.98       958\n",
      "           7       0.98      0.98      0.98      1028\n",
      "           8       0.96      0.98      0.97       974\n",
      "           9       0.98      0.97      0.98      1009\n",
      "\n",
      "    accuracy                           0.98     10000\n",
      "   macro avg       0.98      0.98      0.98     10000\n",
      "weighted avg       0.98      0.98      0.98     10000\n",
      "\n",
      "\n",
      "Confusion Matrix: \n",
      "[[ 970    0    1    0    1    0    2    1    4    1]\n",
      " [   0 1124    2    2    0    0    2    1    4    0]\n",
      " [   4    3 1002    2    7    0    2    6    6    0]\n",
      " [   0    0    5  988    0    1    0    5    6    5]\n",
      " [   1    0    1    0  969    0    4    0    1    6]\n",
      " [   2    0    0    8    1  867    4    2    5    3]\n",
      " [   2    4    0    1    9    3  936    0    3    0]\n",
      " [   0    7    4    1    3    0    0 1003    5    5]\n",
      " [   4    0    1    5    3    0    1    2  956    2]\n",
      " [   0    2    0    3   16    1    1    3    1  982]]\n"
     ]
    }
   ],
   "source": [
    "# Printing the evaluation metrics \n",
    "print(\"Accuracy Score: \")\n",
    "print(sk.metrics.accuracy_score(test_y, predictions1, normalize=True))\n",
    "print(\"\\nClassification Report: \")\n",
    "print(sk.metrics.classification_report(test_y, predictions1))\n",
    "print(\"\\nConfusion Matrix: \")\n",
    "print(sk.metrics.confusion_matrix(test_y, predictions1))"
   ]
  },
  {
   "cell_type": "code",
   "execution_count": null,
   "metadata": {},
   "outputs": [],
   "source": []
  }
 ],
 "metadata": {
  "colab": {
   "collapsed_sections": [],
   "name": "DL LAB Practical 1",
   "provenance": []
  },
  "kernelspec": {
   "display_name": "Python 3",
   "language": "python",
   "name": "python3"
  },
  "language_info": {
   "codemirror_mode": {
    "name": "ipython",
    "version": 3
   },
   "file_extension": ".py",
   "mimetype": "text/x-python",
   "name": "python",
   "nbconvert_exporter": "python",
   "pygments_lexer": "ipython3",
   "version": "3.8.5"
  }
 },
 "nbformat": 4,
 "nbformat_minor": 1
}
