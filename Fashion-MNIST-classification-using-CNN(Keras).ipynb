{
 "cells": [
  {
   "cell_type": "code",
   "execution_count": 1,
   "metadata": {},
   "outputs": [],
   "source": [
    "import numpy as np\n",
    "import pickle as pk\n",
    "import tensorflow as tf\n",
    "from tensorflow.keras.datasets import fashion_mnist\n",
    "from tensorflow import keras\n",
    "from sklearn import metrics\n",
    "# from tensorflow.keras.utils import np_utils"
   ]
  },
  {
   "cell_type": "code",
   "execution_count": 2,
   "metadata": {},
   "outputs": [],
   "source": [
    "(train_x, train_y), (test_x, test_y) = fashion_mnist.load_data()"
   ]
  },
  {
   "cell_type": "code",
   "execution_count": 3,
   "metadata": {},
   "outputs": [
    {
     "name": "stdout",
     "output_type": "stream",
     "text": [
      "Training Set:\n",
      "train_x shape:  (60000, 28, 28)\n",
      "train_y shape:  (60000,)\n",
      "Test Set:\n",
      "test_x shape:  (10000, 28, 28)\n",
      "test_y shape:  (10000,)\n",
      "\n",
      "After Reshaping\n",
      "Training Set:\n",
      "train_x shape:  (60000, 28, 28, 1)\n",
      "train_y shape:  (60000, 10)\n",
      "Test Set:\n",
      "test_x shape:  (10000, 28, 28, 1)\n",
      "test_y shape:  (10000, 10)\n"
     ]
    }
   ],
   "source": [
    "# Printing dimensions\n",
    "print(\"Training Set:\")\n",
    "print(\"train_x shape: \", train_x.shape)\n",
    "print(\"train_y shape: \", train_y.shape)\n",
    "\n",
    "print(\"Test Set:\")\n",
    "print(\"test_x shape: \", test_x.shape)\n",
    "print(\"test_y shape: \", test_y.shape)\n",
    "\n",
    "\n",
    "num_features = 784\n",
    "num_classes = 10\n",
    "\n",
    "# Reshaping the tensor into (,784)\n",
    "train_x = train_x.reshape([train_x.shape[0], 28, 28, 1]).astype('float32')\n",
    "test_x = test_x.reshape([test_x.shape[0], 28, 28, 1]).astype('float32')\n",
    "\n",
    "train_y = tf.keras.utils.to_categorical(train_y)\n",
    "y_test_orig = test_y\n",
    "test_y = tf.keras.utils.to_categorical(test_y)\n",
    "\n",
    "# Printing dimensions\n",
    "print(\"\\nAfter Reshaping\")\n",
    "print(\"Training Set:\")\n",
    "print(\"train_x shape: \", train_x.shape)\n",
    "print(\"train_y shape: \", train_y.shape)\n",
    "\n",
    "print(\"Test Set:\")\n",
    "print(\"test_x shape: \", test_x.shape)\n",
    "print(\"test_y shape: \", test_y.shape)\n",
    "\n",
    "\n",
    "# Normalizing\n",
    "train_x = train_x/255\n",
    "test_x = test_x/255"
   ]
  },
  {
   "cell_type": "code",
   "execution_count": 8,
   "metadata": {},
   "outputs": [
    {
     "name": "stdout",
     "output_type": "stream",
     "text": [
      "Model: \"sequential_1\"\n",
      "_________________________________________________________________\n",
      "Layer (type)                 Output Shape              Param #   \n",
      "=================================================================\n",
      "conv2d_2 (Conv2D)            (None, 28, 28, 32)        320       \n",
      "_________________________________________________________________\n",
      "max_pooling2d_2 (MaxPooling2 (None, 14, 14, 32)        0         \n",
      "_________________________________________________________________\n",
      "conv2d_3 (Conv2D)            (None, 14, 14, 64)        18496     \n",
      "_________________________________________________________________\n",
      "max_pooling2d_3 (MaxPooling2 (None, 7, 7, 64)          0         \n",
      "_________________________________________________________________\n",
      "dropout_1 (Dropout)          (None, 7, 7, 64)          0         \n",
      "_________________________________________________________________\n",
      "flatten_1 (Flatten)          (None, 3136)              0         \n",
      "_________________________________________________________________\n",
      "dense_2 (Dense)              (None, 256)               803072    \n",
      "_________________________________________________________________\n",
      "dense_3 (Dense)              (None, 10)                2570      \n",
      "=================================================================\n",
      "Total params: 824,458\n",
      "Trainable params: 824,458\n",
      "Non-trainable params: 0\n",
      "_________________________________________________________________\n"
     ]
    }
   ],
   "source": [
    "# Building the model\n",
    "model = tf.keras.Sequential()\n",
    "model.add(tf.keras.layers.Conv2D(filters=32, kernel_size=(3,3), input_shape=(28, 28, 1), activation='relu', padding='same'))\n",
    "model.add(tf.keras.layers.MaxPool2D(pool_size=(2,2)))\n",
    "model.add(tf.keras.layers.Conv2D(filters=64, kernel_size=(3,3), activation='relu', padding='same'))\n",
    "model.add(tf.keras.layers.MaxPool2D(pool_size=(2,2)))\n",
    "model.add(tf.keras.layers.Dropout(0.2))\n",
    "model.add(tf.keras.layers.Flatten())\n",
    "model.add(tf.keras.layers.Dense(256, activation='relu'))\n",
    "model.add(tf.keras.layers.Dense(num_classes, activation='softmax'))\n",
    "\n",
    "model.compile(optimizer='adam', loss='categorical_crossentropy', metrics=['accuracy'])\n",
    "model.summary()"
   ]
  },
  {
   "cell_type": "code",
   "execution_count": 10,
   "metadata": {},
   "outputs": [
    {
     "name": "stdout",
     "output_type": "stream",
     "text": [
      "Epoch 1/35\n",
      "938/938 [==============================] - 60s 63ms/step - loss: 0.3292 - accuracy: 0.8813 - val_loss: 0.2877 - val_accuracy: 0.8957\n",
      "Epoch 2/35\n",
      "938/938 [==============================] - 58s 62ms/step - loss: 0.2626 - accuracy: 0.9032 - val_loss: 0.2870 - val_accuracy: 0.8956\n",
      "Epoch 3/35\n",
      "938/938 [==============================] - 59s 63ms/step - loss: 0.2280 - accuracy: 0.9158 - val_loss: 0.2462 - val_accuracy: 0.9088\n",
      "Epoch 4/35\n",
      "938/938 [==============================] - 61s 65ms/step - loss: 0.1979 - accuracy: 0.9268 - val_loss: 0.2376 - val_accuracy: 0.9128\n",
      "Epoch 5/35\n",
      "938/938 [==============================] - 60s 64ms/step - loss: 0.1784 - accuracy: 0.9340 - val_loss: 0.2360 - val_accuracy: 0.9127\n",
      "Epoch 6/35\n",
      "938/938 [==============================] - 61s 65ms/step - loss: 0.1574 - accuracy: 0.9411 - val_loss: 0.2290 - val_accuracy: 0.9195\n",
      "Epoch 7/35\n",
      "938/938 [==============================] - 61s 65ms/step - loss: 0.1397 - accuracy: 0.9482 - val_loss: 0.2288 - val_accuracy: 0.9207\n",
      "Epoch 8/35\n",
      "938/938 [==============================] - 61s 65ms/step - loss: 0.1204 - accuracy: 0.9546 - val_loss: 0.2387 - val_accuracy: 0.9223\n",
      "Epoch 9/35\n",
      "938/938 [==============================] - 61s 65ms/step - loss: 0.1061 - accuracy: 0.9598 - val_loss: 0.2416 - val_accuracy: 0.9173\n",
      "Epoch 10/35\n",
      "938/938 [==============================] - 61s 65ms/step - loss: 0.0946 - accuracy: 0.9649 - val_loss: 0.2571 - val_accuracy: 0.9220\n",
      "Epoch 11/35\n",
      "938/938 [==============================] - 61s 65ms/step - loss: 0.0836 - accuracy: 0.9690 - val_loss: 0.2424 - val_accuracy: 0.9265\n",
      "Epoch 12/35\n",
      "938/938 [==============================] - 61s 65ms/step - loss: 0.0733 - accuracy: 0.9724 - val_loss: 0.2540 - val_accuracy: 0.9219\n",
      "Epoch 13/35\n",
      "938/938 [==============================] - 61s 65ms/step - loss: 0.0622 - accuracy: 0.9769 - val_loss: 0.2777 - val_accuracy: 0.9235\n",
      "Epoch 14/35\n",
      "938/938 [==============================] - 61s 65ms/step - loss: 0.0586 - accuracy: 0.9784 - val_loss: 0.2762 - val_accuracy: 0.9273 0.0586 - accuracy: 0.\n",
      "Epoch 15/35\n",
      "938/938 [==============================] - 61s 65ms/step - loss: 0.0527 - accuracy: 0.9803 - val_loss: 0.3045 - val_accuracy: 0.9225\n",
      "Epoch 16/35\n",
      "938/938 [==============================] - 61s 66ms/step - loss: 0.0473 - accuracy: 0.9827 - val_loss: 0.2906 - val_accuracy: 0.9226\n",
      "Epoch 17/35\n",
      "938/938 [==============================] - 62s 66ms/step - loss: 0.0409 - accuracy: 0.9851 - val_loss: 0.3469 - val_accuracy: 0.9230\n",
      "Epoch 18/35\n",
      "938/938 [==============================] - 61s 65ms/step - loss: 0.0396 - accuracy: 0.9859 - val_loss: 0.3590 - val_accuracy: 0.9223\n",
      "Epoch 19/35\n",
      "938/938 [==============================] - 62s 67ms/step - loss: 0.0363 - accuracy: 0.9870 - val_loss: 0.3534 - val_accuracy: 0.9226\n",
      "Epoch 20/35\n",
      "938/938 [==============================] - 63s 67ms/step - loss: 0.0344 - accuracy: 0.9871 - val_loss: 0.3404 - val_accuracy: 0.9227\n",
      "Epoch 21/35\n",
      "938/938 [==============================] - 61s 65ms/step - loss: 0.0324 - accuracy: 0.9883 - val_loss: 0.3585 - val_accuracy: 0.9228\n",
      "Epoch 22/35\n",
      "938/938 [==============================] - 61s 66ms/step - loss: 0.0278 - accuracy: 0.9901 - val_loss: 0.3688 - val_accuracy: 0.9217\n",
      "Epoch 23/35\n",
      "938/938 [==============================] - 61s 66ms/step - loss: 0.0277 - accuracy: 0.9901 - val_loss: 0.3821 - val_accuracy: 0.9212\n",
      "Epoch 24/35\n",
      "938/938 [==============================] - 62s 66ms/step - loss: 0.0265 - accuracy: 0.9909 - val_loss: 0.4034 - val_accuracy: 0.9201\n",
      "Epoch 25/35\n",
      "938/938 [==============================] - 62s 66ms/step - loss: 0.0264 - accuracy: 0.9905 - val_loss: 0.3895 - val_accuracy: 0.9233\n",
      "Epoch 26/35\n",
      "938/938 [==============================] - 61s 66ms/step - loss: 0.0242 - accuracy: 0.9914 - val_loss: 0.3940 - val_accuracy: 0.9223\n",
      "Epoch 27/35\n",
      "938/938 [==============================] - 62s 67ms/step - loss: 0.0218 - accuracy: 0.9920 - val_loss: 0.4217 - val_accuracy: 0.9235\n",
      "Epoch 28/35\n",
      "938/938 [==============================] - 63s 67ms/step - loss: 0.0234 - accuracy: 0.9916 - val_loss: 0.4175 - val_accuracy: 0.9239\n",
      "Epoch 29/35\n",
      "938/938 [==============================] - 63s 68ms/step - loss: 0.0207 - accuracy: 0.9925 - val_loss: 0.4684 - val_accuracy: 0.9207\n",
      "Epoch 30/35\n",
      "938/938 [==============================] - 61s 65ms/step - loss: 0.0227 - accuracy: 0.9916 - val_loss: 0.4497 - val_accuracy: 0.9204\n",
      "Epoch 31/35\n",
      "938/938 [==============================] - 61s 65ms/step - loss: 0.0207 - accuracy: 0.9926 - val_loss: 0.4584 - val_accuracy: 0.9208\n",
      "Epoch 32/35\n",
      "938/938 [==============================] - 61s 65ms/step - loss: 0.0198 - accuracy: 0.9933 - val_loss: 0.4667 - val_accuracy: 0.9220\n",
      "Epoch 33/35\n",
      "938/938 [==============================] - 61s 65ms/step - loss: 0.0198 - accuracy: 0.9930 - val_loss: 0.4669 - val_accuracy: 0.9190\n",
      "Epoch 34/35\n",
      "938/938 [==============================] - 62s 66ms/step - loss: 0.0184 - accuracy: 0.9937 - val_loss: 0.4792 - val_accuracy: 0.9193\n",
      "Epoch 35/35\n",
      "938/938 [==============================] - 62s 66ms/step - loss: 0.0200 - accuracy: 0.9930 - val_loss: 0.4432 - val_accuracy: 0.9253\n"
     ]
    },
    {
     "data": {
      "text/plain": [
       "<tensorflow.python.keras.callbacks.History at 0x1f80478afa0>"
      ]
     },
     "execution_count": 10,
     "metadata": {},
     "output_type": "execute_result"
    }
   ],
   "source": [
    "model.fit(x=train_x, y=train_y, verbose=1, batch_size=64, epochs=35, validation_data=(test_x, test_y))"
   ]
  },
  {
   "cell_type": "code",
   "execution_count": 6,
   "metadata": {},
   "outputs": [
    {
     "name": "stdout",
     "output_type": "stream",
     "text": [
      "[9 2 1 ... 8 1 5]\n"
     ]
    }
   ],
   "source": [
    "prediction = model.predict(test_x)\n",
    "\n",
    "predictions = np.argmax(prediction, axis=1)\n",
    "print(predictions)"
   ]
  },
  {
   "cell_type": "code",
   "execution_count": 7,
   "metadata": {},
   "outputs": [
    {
     "name": "stdout",
     "output_type": "stream",
     "text": [
      "Accuracy Score: \n",
      "0.9203\n",
      "\n",
      "Classification Report: \n",
      "              precision    recall  f1-score   support\n",
      "\n",
      "           0       0.87      0.85      0.86      1000\n",
      "           1       0.99      0.99      0.99      1000\n",
      "           2       0.86      0.89      0.87      1000\n",
      "           3       0.93      0.94      0.93      1000\n",
      "           4       0.88      0.85      0.87      1000\n",
      "           5       0.99      0.99      0.99      1000\n",
      "           6       0.77      0.77      0.77      1000\n",
      "           7       0.95      0.98      0.97      1000\n",
      "           8       0.98      0.98      0.98      1000\n",
      "           9       0.98      0.96      0.97      1000\n",
      "\n",
      "    accuracy                           0.92     10000\n",
      "   macro avg       0.92      0.92      0.92     10000\n",
      "weighted avg       0.92      0.92      0.92     10000\n",
      "\n",
      "\n",
      "Confusion Matrix: \n",
      "[[854   0  11  10   4   1 112   0   8   0]\n",
      " [  0 987   0   9   1   0   2   0   1   0]\n",
      " [ 20   1 894   7  33   0  43   0   2   0]\n",
      " [ 11   2  10 935  22   0  19   0   1   0]\n",
      " [  0   1  72  20 850   0  55   0   2   0]\n",
      " [  0   0   0   0   0 986   0  11   0   3]\n",
      " [ 88   0  58  24  52   0 771   0   7   0]\n",
      " [  0   0   0   0   0   1   0 982   0  17]\n",
      " [  5   2   0   2   0   2   0   4 985   0]\n",
      " [  0   0   0   0   0   7   1  33   0 959]]\n"
     ]
    }
   ],
   "source": [
    "# Printing the evaluation metrics \n",
    "print(\"Accuracy Score: \")\n",
    "print(metrics.accuracy_score(y_test_orig, predictions, normalize=True))\n",
    "print(\"\\nClassification Report: \")\n",
    "print(metrics.classification_report(y_test_orig, predictions))\n",
    "print(\"\\nConfusion Matrix: \")\n",
    "print(metrics.confusion_matrix(y_test_orig, predictions))"
   ]
  },
  {
   "cell_type": "code",
   "execution_count": null,
   "metadata": {},
   "outputs": [],
   "source": []
  }
 ],
 "metadata": {
  "kernelspec": {
   "display_name": "Python 3",
   "language": "python",
   "name": "python3"
  },
  "language_info": {
   "codemirror_mode": {
    "name": "ipython",
    "version": 3
   },
   "file_extension": ".py",
   "mimetype": "text/x-python",
   "name": "python",
   "nbconvert_exporter": "python",
   "pygments_lexer": "ipython3",
   "version": "3.8.5"
  }
 },
 "nbformat": 4,
 "nbformat_minor": 4
}
