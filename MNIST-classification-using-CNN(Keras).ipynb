{
 "cells": [
  {
   "cell_type": "code",
   "execution_count": 1,
   "metadata": {},
   "outputs": [],
   "source": [
    "import numpy as np\n",
    "import pickle as pk\n",
    "import tensorflow as tf\n",
    "from tensorflow.keras.datasets import mnist\n",
    "from tensorflow import keras\n",
    "from sklearn import metrics\n",
    "# from tensorflow.keras.utils import np_utils"
   ]
  },
  {
   "cell_type": "code",
   "execution_count": 2,
   "metadata": {},
   "outputs": [],
   "source": [
    "(train_x, train_y), (test_x, test_y) = mnist.load_data()"
   ]
  },
  {
   "cell_type": "code",
   "execution_count": 4,
   "metadata": {},
   "outputs": [
    {
     "name": "stdout",
     "output_type": "stream",
     "text": [
      "Training Set:\n",
      "train_x shape:  (60000, 28, 28, 1)\n",
      "train_y shape:  (60000,)\n",
      "Test Set:\n",
      "test_x shape:  (10000, 28, 28)\n",
      "test_y shape:  (10000,)\n",
      "\n",
      "After Reshaping\n",
      "Training Set:\n",
      "train_x shape:  (60000, 28, 28, 1)\n",
      "train_y shape:  (60000, 10)\n",
      "Test Set:\n",
      "test_x shape:  (10000, 28, 28, 1)\n",
      "test_y shape:  (10000, 10)\n"
     ]
    }
   ],
   "source": [
    "# Printing dimensions\n",
    "print(\"Training Set:\")\n",
    "print(\"train_x shape: \", train_x.shape)\n",
    "print(\"train_y shape: \", train_y.shape)\n",
    "\n",
    "print(\"Test Set:\")\n",
    "print(\"test_x shape: \", test_x.shape)\n",
    "print(\"test_y shape: \", test_y.shape)\n",
    "\n",
    "\n",
    "num_features = 784\n",
    "num_classes = 10\n",
    "\n",
    "# Reshaping the tensor into (,784)\n",
    "train_x = train_x.reshape([train_x.shape[0], 28, 28, 1]).astype('float32')\n",
    "test_x = test_x.reshape([test_x.shape[0], 28, 28, 1]).astype('float32')\n",
    "\n",
    "train_y = tf.keras.utils.to_categorical(train_y)\n",
    "y_test_orig = test_y\n",
    "test_y = tf.keras.utils.to_categorical(test_y)\n",
    "\n",
    "# Printing dimensions\n",
    "print(\"\\nAfter Reshaping\")\n",
    "print(\"Training Set:\")\n",
    "print(\"train_x shape: \", train_x.shape)\n",
    "print(\"train_y shape: \", train_y.shape)\n",
    "\n",
    "print(\"Test Set:\")\n",
    "print(\"test_x shape: \", test_x.shape)\n",
    "print(\"test_y shape: \", test_y.shape)\n",
    "\n",
    "\n",
    "# Normalizing\n",
    "train_x = train_x/255\n",
    "test_x = test_x/255"
   ]
  },
  {
   "cell_type": "code",
   "execution_count": 9,
   "metadata": {},
   "outputs": [
    {
     "name": "stdout",
     "output_type": "stream",
     "text": [
      "Model: \"sequential_1\"\n",
      "_________________________________________________________________\n",
      "Layer (type)                 Output Shape              Param #   \n",
      "=================================================================\n",
      "conv2d_1 (Conv2D)            (None, 26, 26, 32)        320       \n",
      "_________________________________________________________________\n",
      "max_pooling2d_1 (MaxPooling2 (None, 13, 13, 32)        0         \n",
      "_________________________________________________________________\n",
      "dropout_1 (Dropout)          (None, 13, 13, 32)        0         \n",
      "_________________________________________________________________\n",
      "flatten_1 (Flatten)          (None, 5408)              0         \n",
      "_________________________________________________________________\n",
      "dense_2 (Dense)              (None, 128)               692352    \n",
      "_________________________________________________________________\n",
      "dense_3 (Dense)              (None, 10)                1290      \n",
      "=================================================================\n",
      "Total params: 693,962\n",
      "Trainable params: 693,962\n",
      "Non-trainable params: 0\n",
      "_________________________________________________________________\n"
     ]
    }
   ],
   "source": [
    "# Building the model\n",
    "model = tf.keras.Sequential()\n",
    "model.add(tf.keras.layers.Conv2D(filters=32, kernel_size=(3,3), input_shape=(28, 28, 1), activation='relu'))\n",
    "model.add(tf.keras.layers.MaxPool2D(pool_size=(2,2)))\n",
    "model.add(tf.keras.layers.Dropout(0.2))\n",
    "model.add(tf.keras.layers.Flatten())\n",
    "model.add(tf.keras.layers.Dense(128, activation='relu'))\n",
    "model.add(tf.keras.layers.Dense(num_classes, activation='softmax'))\n",
    "\n",
    "model.compile(optimizer='adam', loss='categorical_crossentropy', metrics=['accuracy'])\n",
    "model.summary()"
   ]
  },
  {
   "cell_type": "code",
   "execution_count": 10,
   "metadata": {},
   "outputs": [
    {
     "name": "stdout",
     "output_type": "stream",
     "text": [
      "Epoch 1/25\n",
      "300/300 [==============================] - 24s 78ms/step - loss: 0.5081 - accuracy: 0.8622 - val_loss: 0.0983 - val_accuracy: 0.9725\n",
      "Epoch 2/25\n",
      "300/300 [==============================] - 24s 81ms/step - loss: 0.0966 - accuracy: 0.9728 - val_loss: 0.0616 - val_accuracy: 0.9807\n",
      "Epoch 3/25\n",
      "300/300 [==============================] - 25s 83ms/step - loss: 0.0616 - accuracy: 0.9819 - val_loss: 0.0493 - val_accuracy: 0.9843\n",
      "Epoch 4/25\n",
      "300/300 [==============================] - 25s 82ms/step - loss: 0.0451 - accuracy: 0.9866 - val_loss: 0.0464 - val_accuracy: 0.9845\n",
      "Epoch 5/25\n",
      "300/300 [==============================] - 25s 82ms/step - loss: 0.0370 - accuracy: 0.9894 - val_loss: 0.0436 - val_accuracy: 0.9850\n",
      "Epoch 6/25\n",
      "300/300 [==============================] - 25s 83ms/step - loss: 0.0349 - accuracy: 0.9897 - val_loss: 0.0383 - val_accuracy: 0.9865\n",
      "Epoch 7/25\n",
      "300/300 [==============================] - 27s 91ms/step - loss: 0.0260 - accuracy: 0.9921 - val_loss: 0.0464 - val_accuracy: 0.9852\n",
      "Epoch 8/25\n",
      "300/300 [==============================] - 25s 84ms/step - loss: 0.0201 - accuracy: 0.9936 - val_loss: 0.0391 - val_accuracy: 0.9865\n",
      "Epoch 9/25\n",
      "300/300 [==============================] - 25s 82ms/step - loss: 0.0187 - accuracy: 0.9939 - val_loss: 0.0396 - val_accuracy: 0.9863\n",
      "Epoch 10/25\n",
      "300/300 [==============================] - 25s 83ms/step - loss: 0.0150 - accuracy: 0.9954 - val_loss: 0.0377 - val_accuracy: 0.9881\n",
      "Epoch 11/25\n",
      "300/300 [==============================] - 25s 83ms/step - loss: 0.0126 - accuracy: 0.9960 - val_loss: 0.0374 - val_accuracy: 0.9876\n",
      "Epoch 12/25\n",
      "300/300 [==============================] - 25s 83ms/step - loss: 0.0112 - accuracy: 0.9966 - val_loss: 0.0409 - val_accuracy: 0.9879\n",
      "Epoch 13/25\n",
      "300/300 [==============================] - 25s 83ms/step - loss: 0.0101 - accuracy: 0.9969 - val_loss: 0.0424 - val_accuracy: 0.9872\n",
      "Epoch 14/25\n",
      "300/300 [==============================] - 26s 86ms/step - loss: 0.0095 - accuracy: 0.9971 - val_loss: 0.0368 - val_accuracy: 0.9890\n",
      "Epoch 15/25\n",
      "300/300 [==============================] - 26s 87ms/step - loss: 0.0071 - accuracy: 0.9977 - val_loss: 0.0389 - val_accuracy: 0.9876\n",
      "Epoch 16/25\n",
      "300/300 [==============================] - 25s 84ms/step - loss: 0.0063 - accuracy: 0.9982 - val_loss: 0.0394 - val_accuracy: 0.9885\n",
      "Epoch 17/25\n",
      "300/300 [==============================] - 25s 84ms/step - loss: 0.0061 - accuracy: 0.9983 - val_loss: 0.0401 - val_accuracy: 0.9885\n",
      "Epoch 18/25\n",
      "300/300 [==============================] - 25s 84ms/step - loss: 0.0056 - accuracy: 0.9984 - val_loss: 0.0418 - val_accuracy: 0.9880\n",
      "Epoch 19/25\n",
      "300/300 [==============================] - 25s 84ms/step - loss: 0.0062 - accuracy: 0.9977 - val_loss: 0.0427 - val_accuracy: 0.9882\n",
      "Epoch 20/25\n",
      "300/300 [==============================] - 25s 84ms/step - loss: 0.0048 - accuracy: 0.9984 - val_loss: 0.0407 - val_accuracy: 0.9880\n",
      "Epoch 21/25\n",
      "300/300 [==============================] - 25s 84ms/step - loss: 0.0064 - accuracy: 0.9978 - val_loss: 0.0400 - val_accuracy: 0.9888\n",
      "Epoch 22/25\n",
      "300/300 [==============================] - 27s 89ms/step - loss: 0.0035 - accuracy: 0.9990 - val_loss: 0.0441 - val_accuracy: 0.9888\n",
      "Epoch 23/25\n",
      "300/300 [==============================] - 27s 91ms/step - loss: 0.0026 - accuracy: 0.9993 - val_loss: 0.0401 - val_accuracy: 0.9891\n",
      "Epoch 24/25\n",
      "300/300 [==============================] - 25s 84ms/step - loss: 0.0023 - accuracy: 0.9994 - val_loss: 0.0452 - val_accuracy: 0.9880\n",
      "Epoch 25/25\n",
      "300/300 [==============================] - 27s 89ms/step - loss: 0.0037 - accuracy: 0.9989 - val_loss: 0.0495 - val_accuracy: 0.9874\n"
     ]
    },
    {
     "data": {
      "text/plain": [
       "<tensorflow.python.keras.callbacks.History at 0x15350a277f0>"
      ]
     },
     "execution_count": 10,
     "metadata": {},
     "output_type": "execute_result"
    }
   ],
   "source": [
    "model.fit(x=train_x, y=train_y, verbose=1, batch_size=200, epochs=25, validation_data=(test_x, test_y))"
   ]
  },
  {
   "cell_type": "code",
   "execution_count": 11,
   "metadata": {},
   "outputs": [
    {
     "name": "stdout",
     "output_type": "stream",
     "text": [
      "[7 2 1 ... 4 5 6]\n"
     ]
    }
   ],
   "source": [
    "prediction = model.predict(test_x)\n",
    "\n",
    "predictions = np.argmax(prediction, axis=1)\n",
    "print(predictions)"
   ]
  },
  {
   "cell_type": "code",
   "execution_count": 12,
   "metadata": {},
   "outputs": [
    {
     "name": "stdout",
     "output_type": "stream",
     "text": [
      "Accuracy Score: \n",
      "0.9874\n",
      "\n",
      "Classification Report: \n",
      "              precision    recall  f1-score   support\n",
      "\n",
      "           0       0.99      0.99      0.99       980\n",
      "           1       0.99      0.99      0.99      1135\n",
      "           2       0.99      0.98      0.99      1032\n",
      "           3       0.97      1.00      0.98      1010\n",
      "           4       0.98      1.00      0.99       982\n",
      "           5       0.99      0.98      0.99       892\n",
      "           6       0.99      0.99      0.99       958\n",
      "           7       0.98      0.99      0.99      1028\n",
      "           8       0.99      0.98      0.99       974\n",
      "           9       0.99      0.96      0.98      1009\n",
      "\n",
      "    accuracy                           0.99     10000\n",
      "   macro avg       0.99      0.99      0.99     10000\n",
      "weighted avg       0.99      0.99      0.99     10000\n",
      "\n",
      "\n",
      "Confusion Matrix: \n",
      "[[ 974    0    1    0    0    0    2    1    2    0]\n",
      " [   0 1127    2    0    1    0    2    1    2    0]\n",
      " [   2    3 1016    2    1    0    0    7    1    0]\n",
      " [   0    0    1 1007    0    1    0    1    0    0]\n",
      " [   0    0    0    0  981    0    0    0    0    1]\n",
      " [   0    0    1   15    0  872    3    0    1    0]\n",
      " [   3    2    0    1    1    1  949    0    1    0]\n",
      " [   0    1    5    1    0    0    0 1018    0    3]\n",
      " [   1    1    3    5    1    2    0    1  958    2]\n",
      " [   2    2    0    9   14    2    0    6    2  972]]\n"
     ]
    }
   ],
   "source": [
    "# Printing the evaluation metrics \n",
    "print(\"Accuracy Score: \")\n",
    "print(metrics.accuracy_score(y_test_orig, predictions, normalize=True))\n",
    "print(\"\\nClassification Report: \")\n",
    "print(metrics.classification_report(y_test_orig, predictions))\n",
    "print(\"\\nConfusion Matrix: \")\n",
    "print(metrics.confusion_matrix(y_test_orig, predictions))"
   ]
  },
  {
   "cell_type": "code",
   "execution_count": null,
   "metadata": {},
   "outputs": [],
   "source": []
  }
 ],
 "metadata": {
  "kernelspec": {
   "display_name": "Python 3",
   "language": "python",
   "name": "python3"
  },
  "language_info": {
   "codemirror_mode": {
    "name": "ipython",
    "version": 3
   },
   "file_extension": ".py",
   "mimetype": "text/x-python",
   "name": "python",
   "nbconvert_exporter": "python",
   "pygments_lexer": "ipython3",
   "version": "3.8.5"
  }
 },
 "nbformat": 4,
 "nbformat_minor": 4
}
